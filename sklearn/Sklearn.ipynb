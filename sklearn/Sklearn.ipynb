{
  "cells": [
    {
      "cell_type": "raw",
      "metadata": {},
      "source": [
        "---\n",
        "title: \"Curso Profesional de Machine Learning con scikit-learn\"\n",
        "---"
      ],
      "id": "9c300121"
    },
    {
      "cell_type": "markdown",
      "metadata": {},
      "source": [
        "Scikit-Learn es una biblioteca de Python que ofrece un conjunto de algoritmos eficientes que pueden ser utilizados para realizar Machine Learning en un ambiente productivo. Con el Curso Profesional de Machine Learning con SciKit-Learn de Platzi aprenderás a implementar los principales algoritmos disponibles en esta biblioteca.\n",
        "\n",
        "# Conceptos clave\n",
        "\n",
        "## Todo lo que aprenderás sobre MA con Scikit-Learn\n",
        "- Scikit-learn comienza su historia en 2007 por David Cournapeau como un proyecto del Google Summer of code\n",
        "- Matthieu Bruncher continúa como parte de su tesis\n",
        "\n",
        "# Iniciar un proyecto con sklearn\n",
        "\n",
        "\n",
        "```{bash}\n",
        "python3 -m venv env\n",
        "```"
      ],
      "id": "26f22629"
    },
    {
      "cell_type": "code",
      "metadata": {},
      "source": [
        "print(\"Hello\")"
      ],
      "id": "67d085da",
      "execution_count": null,
      "outputs": []
    },
    {
      "cell_type": "markdown",
      "metadata": {},
      "source": [
        "# Optimización de features\n",
        "\n",
        "# Regresiones robustas\n",
        "\n",
        "# Métodos de ensamble aplicados a clasificación\n",
        "\n",
        "# Clustering\n",
        "\n",
        "# Optimización paramétrica\n",
        "\n",
        "# Salida a producción"
      ],
      "id": "19e93a07"
    }
  ],
  "metadata": {
    "kernelspec": {
      "name": "python3",
      "language": "python",
      "display_name": "Python 3 (ipykernel)"
    }
  },
  "nbformat": 4,
  "nbformat_minor": 5
}